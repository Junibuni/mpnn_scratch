{
 "cells": [
  {
   "cell_type": "code",
   "execution_count": 2,
   "id": "30ab3e8d",
   "metadata": {},
   "outputs": [],
   "source": [
    "import torch\n",
    "import torch.nn as nn\n",
    "import torch.nn.functional as F\n",
    "from torch_geometric.nn import MessagePassing"
   ]
  },
  {
   "cell_type": "code",
   "execution_count": 3,
   "id": "e355b069",
   "metadata": {},
   "outputs": [],
   "source": [
    "class EdgeWeightedMPNN(MessagePassing):\n",
    "    def __init__(self):\n",
    "        super().__init__(aggr='add')\n",
    "\n",
    "    def forward(self, x, edge_index, edge_attr):\n",
    "        # x: [num_nodes, node_feat_dim]\n",
    "        # edge_index: [2, num_edges]\n",
    "        # edge_attr: [num_edges, 1]\n",
    "        return self.propagate(edge_index, x=x, edge_attr=edge_attr)\n",
    "\n",
    "    def message(self, x_j, edge_attr):\n",
    "        # x_j: source node features\n",
    "        # edge_attr: scalar weights\n",
    "        return edge_attr * x_j\n",
    "\n",
    "    def update(self, aggr_out, x):\n",
    "        return F.relu(x + aggr_out)"
   ]
  },
  {
   "cell_type": "code",
   "execution_count": 4,
   "id": "95899da1",
   "metadata": {},
   "outputs": [],
   "source": [
    "\"\"\"\n",
    "A -- B -- C\n",
    "\n",
    "로 연결 되어있는 그래프\n",
    "\n",
    "A <--> B = 0.5\n",
    "B <--> C = 1.0\n",
    "\n",
    "의 edge attr\n",
    "\"\"\"\n",
    "\n",
    "# 노드 features: A, B, C\n",
    "x = torch.tensor([\n",
    "    [1.0, 0.0],  # A\n",
    "    [0.0, 1.0],  # B\n",
    "    [1.0, 1.0],  # C\n",
    "], dtype=torch.float)\n",
    "\n",
    "# 엣지 리스트 (양방향 연결)\n",
    "edge_index = torch.tensor([\n",
    "    [0, 1, 1, 2],  # source\n",
    "    [1, 0, 2, 1],  # target\n",
    "], dtype=torch.long)\n",
    "\n",
    "# 엣지 속성 (edge weight)\n",
    "edge_attr = torch.tensor([\n",
    "    [0.5],  # A → B\n",
    "    [0.5],  # B → A\n",
    "    [1.0],  # B → C\n",
    "    [1.0],  # C → B\n",
    "], dtype=torch.float)\n"
   ]
  },
  {
   "cell_type": "code",
   "execution_count": 5,
   "id": "08721af1",
   "metadata": {},
   "outputs": [
    {
     "name": "stdout",
     "output_type": "stream",
     "text": [
      "Step 1: tensor([[1.0000, 0.5000],\n",
      "        [1.5000, 2.0000],\n",
      "        [1.0000, 2.0000]])\n",
      "Step 2: tensor([[1.7500, 1.5000],\n",
      "        [3.0000, 4.2500],\n",
      "        [2.5000, 4.0000]])\n"
     ]
    }
   ],
   "source": [
    "mpnn = EdgeWeightedMPNN()\n",
    "\n",
    "x1 = mpnn(x, edge_index, edge_attr)\n",
    "x2 = mpnn(x1, edge_index, edge_attr)\n",
    "\n",
    "print(\"Step 1:\", x1)\n",
    "print(\"Step 2:\", x2)\n"
   ]
  },
  {
   "cell_type": "markdown",
   "id": "a371b9b6",
   "metadata": {},
   "source": [
    "Step-By-Step 손계산\n"
   ]
  },
  {
   "cell_type": "code",
   "execution_count": 16,
   "id": "96df4c2a",
   "metadata": {},
   "outputs": [],
   "source": [
    "def dprint(kwargs):\n",
    "    for name, val in kwargs.items():\n",
    "        print(f\"{name}:\\n\\t{val}\\n\")"
   ]
  },
  {
   "cell_type": "code",
   "execution_count": 11,
   "id": "0cf590f6",
   "metadata": {},
   "outputs": [],
   "source": [
    "x = torch.tensor([\n",
    "    [1.0, 2.0, 3.0],  # node 0 (A)\n",
    "    [4.0, 5.0, 6.0],  # node 1 (B)\n",
    "    [7.0, 8.0, 9.0],  # node 2 (C)\n",
    "])  # shape: [3 nodes, 3 features]\n",
    "\n",
    "edge_index = torch.tensor([\n",
    "    [0, 1],  # source (A → B, B → C)\n",
    "    [1, 2],  # target\n",
    "])  # shape: [2, 2]\n",
    "\n",
    "edge_attr = torch.tensor([\n",
    "    [0.1, 0.2],  # edge 0: A→B\n",
    "    [0.3, 0.4],  # edge 1: B→C\n",
    "])  # shape: [2 edges, 2]"
   ]
  },
  {
   "cell_type": "code",
   "execution_count": 17,
   "id": "c27d7f82",
   "metadata": {},
   "outputs": [
    {
     "name": "stdout",
     "output_type": "stream",
     "text": [
      "src:\n",
      "\ttensor([0, 1])\n",
      "\n",
      "x_j:\n",
      "\ttensor([[1., 2., 3.],\n",
      "        [4., 5., 6.]])\n",
      "\n",
      "edge_attr:\n",
      "\ttensor([[0.1000, 0.2000],\n",
      "        [0.3000, 0.4000]])\n",
      "\n"
     ]
    }
   ],
   "source": [
    "src = edge_index[0]  # [0, 1]\n",
    "x_j = x[src]\n",
    "\n",
    "dprint({\n",
    "    \"src\": src,\n",
    "    \"x_j\": x_j,\n",
    "    \"edge_attr\": edge_attr\n",
    "})"
   ]
  },
  {
   "cell_type": "markdown",
   "id": "9a643b0f",
   "metadata": {},
   "source": [
    "MPNN"
   ]
  },
  {
   "cell_type": "code",
   "execution_count": 18,
   "id": "cfc16882",
   "metadata": {},
   "outputs": [
    {
     "name": "stdout",
     "output_type": "stream",
     "text": [
      "input:\n",
      "\ttensor([[1.0000, 2.0000, 3.0000, 0.1000, 0.2000],\n",
      "        [4.0000, 5.0000, 6.0000, 0.3000, 0.4000]])\n",
      "\n"
     ]
    }
   ],
   "source": [
    "input = torch.cat([x_j, edge_attr], dim=1)\n",
    "dprint({\n",
    "    \"input\": input\n",
    "})"
   ]
  },
  {
   "cell_type": "code",
   "execution_count": 21,
   "id": "3f69fd28",
   "metadata": {},
   "outputs": [
    {
     "name": "stdout",
     "output_type": "stream",
     "text": [
      "mlp weight:\n",
      "\ttensor([[1., 0., 0., 1., 0.],\n",
      "        [0., 1., 0., 0., 1.],\n",
      "        [0., 0., 1., 0., 0.]])\n",
      "\n",
      "message:\n",
      "\ttensor([[1.1000, 2.2000, 3.0000],\n",
      "        [4.3000, 5.4000, 6.0000]], grad_fn=<MmBackward0>)\n",
      "\n"
     ]
    }
   ],
   "source": [
    "mlp = nn.Sequential(\n",
    "    nn.Linear(5, 3, bias=False)\n",
    ")\n",
    "mlp[0].weight.data = torch.tensor([\n",
    "    [1.0, 0.0, 0.0, 1.0, 0.0],  # output dim 0\n",
    "    [0.0, 1.0, 0.0, 0.0, 1.0],  # output dim 1\n",
    "    [0.0, 0.0, 1.0, 0.0, 0.0],  # output dim 2\n",
    "])\n",
    "# 수동 초기화\n",
    "\n",
    "message = mlp(input)\n",
    "\n",
    "dprint({\n",
    "    \"mlp weight\": mlp[0].weight.data,\n",
    "    \"message\": message\n",
    "})\n"
   ]
  },
  {
   "cell_type": "markdown",
   "id": "8155a99d",
   "metadata": {},
   "source": [
    "AGG"
   ]
  },
  {
   "cell_type": "code",
   "execution_count": 25,
   "id": "f29afc3d",
   "metadata": {},
   "outputs": [
    {
     "name": "stdout",
     "output_type": "stream",
     "text": [
      "dst:\n",
      "\ttensor([1, 2])\n",
      "\n",
      "aggr_out:\n",
      "\ttensor([[0.0000, 0.0000, 0.0000],\n",
      "        [1.1000, 2.2000, 3.0000],\n",
      "        [4.3000, 5.4000, 6.0000]], grad_fn=<ScatterAddBackward0>)\n",
      "\n",
      "x_updated:\n",
      "\ttensor([[ 1.0000,  2.0000,  3.0000],\n",
      "        [ 5.1000,  7.2000,  9.0000],\n",
      "        [11.3000, 13.4000, 15.0000]], grad_fn=<AddBackward0>)\n",
      "\n"
     ]
    }
   ],
   "source": [
    "dst = edge_index[1]\n",
    "\n",
    "from torch_scatter import scatter_add\n",
    "aggr_out = scatter_add(message, dst, dim=0, dim_size=3)\n",
    "\n",
    "\n",
    "x_updated_manual = x + aggr_out\n",
    "\n",
    "\n",
    "dprint({\n",
    "    \"dst\": dst,\n",
    "    \"aggr_out\": aggr_out,\n",
    "    \"x_updated\": x_updated_manual\n",
    "})"
   ]
  },
  {
   "cell_type": "code",
   "execution_count": 29,
   "id": "a52b8ec2",
   "metadata": {},
   "outputs": [
    {
     "name": "stdout",
     "output_type": "stream",
     "text": [
      "x_updated_manual:\n",
      "\ttensor([[ 1.0000,  2.0000,  3.0000],\n",
      "        [ 5.1000,  7.2000,  9.0000],\n",
      "        [11.3000, 13.4000, 15.0000]], grad_fn=<AddBackward0>)\n",
      "\n",
      "x_updated_mpnn:\n",
      "\ttensor([[ 1.0000,  2.0000,  3.0000],\n",
      "        [ 5.1000,  7.2000,  9.0000],\n",
      "        [11.3000, 13.4000, 15.0000]], grad_fn=<AddBackward0>)\n",
      "\n"
     ]
    }
   ],
   "source": [
    "class MessagePassingLayerMLP(MessagePassing):\n",
    "    def __init__(self):\n",
    "        super().__init__(aggr='add')  # sum aggregation\n",
    "        self.mlp = nn.Sequential(\n",
    "            nn.Linear(5, 3, bias=False)  # 3 (x_j) + 2 (edge_attr)\n",
    "        )\n",
    "\n",
    "        self.mlp[0].weight.data = torch.tensor([\n",
    "            [1.0, 0.0, 0.0, 1.0, 0.0],  # output dim 0\n",
    "            [0.0, 1.0, 0.0, 0.0, 1.0],  # output dim 1\n",
    "            [0.0, 0.0, 1.0, 0.0, 0.0],  # output dim 2\n",
    "        ])\n",
    "\n",
    "    def forward(self, x, edge_index, edge_attr):\n",
    "        return self.propagate(edge_index, x=x, edge_attr=edge_attr)\n",
    "\n",
    "    def message(self, x_j, edge_attr):\n",
    "        # x_j: [num_edges, 3], edge_attr: [num_edges, 2]\n",
    "        m_input = torch.cat([x_j, edge_attr], dim=1)  # [E, 5]\n",
    "        return self.mlp(m_input)  # [E, 3]\n",
    "\n",
    "    def update(self, aggr_out, x):\n",
    "        return x + aggr_out\n",
    "\n",
    "pyg_mpnn = MessagePassingLayerMLP()\n",
    "x_updated_mpnn = pyg_mpnn(x, edge_index, edge_attr)\n",
    "\n",
    "dprint({\n",
    "    \"x_updated_manual\": x_updated_manual,\n",
    "    \"x_updated_mpnn\": x_updated_mpnn\n",
    "})"
   ]
  },
  {
   "cell_type": "markdown",
   "id": "b58737b2",
   "metadata": {},
   "source": [
    "Undirected Graph?"
   ]
  },
  {
   "cell_type": "code",
   "execution_count": 30,
   "id": "71ed8b8d",
   "metadata": {},
   "outputs": [
    {
     "name": "stdout",
     "output_type": "stream",
     "text": [
      "edge_index:\n",
      "\ttensor([[0, 1],\n",
      "        [1, 2]])\n",
      "\n",
      "edge_index_undirected:\n",
      "\ttensor([[0, 1, 1, 2],\n",
      "        [1, 0, 2, 1]])\n",
      "\n"
     ]
    }
   ],
   "source": [
    "from torch_geometric.utils import to_undirected\n",
    "\n",
    "edge_index_undirected = to_undirected(edge_index)\n",
    "\n",
    "dprint({\n",
    "    \"edge_index\": edge_index,\n",
    "    \"edge_index_undirected\": edge_index_undirected\n",
    "})"
   ]
  }
 ],
 "metadata": {
  "kernelspec": {
   "display_name": "venv",
   "language": "python",
   "name": "python3"
  },
  "language_info": {
   "codemirror_mode": {
    "name": "ipython",
    "version": 3
   },
   "file_extension": ".py",
   "mimetype": "text/x-python",
   "name": "python",
   "nbconvert_exporter": "python",
   "pygments_lexer": "ipython3",
   "version": "3.10.10"
  }
 },
 "nbformat": 4,
 "nbformat_minor": 5
}
